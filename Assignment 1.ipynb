{
 "cells": [
  {
   "cell_type": "code",
   "execution_count": 1,
   "id": "0dc00f8d-e876-42e9-8972-99150eae4ec2",
   "metadata": {},
   "outputs": [
    {
     "data": {
      "text/plain": [
       "str"
      ]
     },
     "execution_count": 1,
     "metadata": {},
     "output_type": "execute_result"
    }
   ],
   "source": [
    "#Q1\n",
    "a=\"ujwal\"\n",
    "type(a)"
   ]
  },
  {
   "cell_type": "code",
   "execution_count": 2,
   "id": "a5e20671-71e7-4a13-bc4c-9ba44020db7c",
   "metadata": {},
   "outputs": [
    {
     "data": {
      "text/plain": [
       "list"
      ]
     },
     "execution_count": 2,
     "metadata": {},
     "output_type": "execute_result"
    }
   ],
   "source": [
    "b=[1,2,3,4,'ankur']\n",
    "type(b)"
   ]
  },
  {
   "cell_type": "code",
   "execution_count": 3,
   "id": "ce4bdf9b-8103-4402-921b-e8c1e3782b8a",
   "metadata": {},
   "outputs": [
    {
     "data": {
      "text/plain": [
       "float"
      ]
     },
     "execution_count": 3,
     "metadata": {},
     "output_type": "execute_result"
    }
   ],
   "source": [
    "c=35.8\n",
    "type(c)"
   ]
  },
  {
   "cell_type": "code",
   "execution_count": 5,
   "id": "d0fa39a9-b68e-4fde-8516-5fb754bc51e1",
   "metadata": {},
   "outputs": [
    {
     "data": {
      "text/plain": [
       "tuple"
      ]
     },
     "execution_count": 5,
     "metadata": {},
     "output_type": "execute_result"
    }
   ],
   "source": [
    "d=('rishav','dheeraj','archit')\n",
    "type(d)"
   ]
  },
  {
   "cell_type": "code",
   "execution_count": 13,
   "id": "666d7d30-a6ae-4260-88b2-0f2b9d3a3fa4",
   "metadata": {},
   "outputs": [
    {
     "data": {
      "text/plain": [
       "str"
      ]
     },
     "execution_count": 13,
     "metadata": {},
     "output_type": "execute_result"
    }
   ],
   "source": [
    "#Q2\n",
    "var1 = ''\n",
    "type(var1)"
   ]
  },
  {
   "cell_type": "code",
   "execution_count": 16,
   "id": "0b59f511-095d-4ae9-b0a9-eb192be3514f",
   "metadata": {},
   "outputs": [
    {
     "data": {
      "text/plain": [
       "str"
      ]
     },
     "execution_count": 16,
     "metadata": {},
     "output_type": "execute_result"
    }
   ],
   "source": [
    "var2 = '[DS,ML,Pyhton]'\n",
    "type(var2)"
   ]
  },
  {
   "cell_type": "code",
   "execution_count": 17,
   "id": "1aa9fe32-68e3-4a36-9256-54c7b81a5dcc",
   "metadata": {},
   "outputs": [
    {
     "data": {
      "text/plain": [
       "list"
      ]
     },
     "execution_count": 17,
     "metadata": {},
     "output_type": "execute_result"
    }
   ],
   "source": [
    "var3 = ['DS','ML','Python']\n",
    "type(var3)"
   ]
  },
  {
   "cell_type": "code",
   "execution_count": 18,
   "id": "64241e9b-a0be-42bb-ab52-64fcdeeff869",
   "metadata": {},
   "outputs": [
    {
     "data": {
      "text/plain": [
       "float"
      ]
     },
     "execution_count": 18,
     "metadata": {},
     "output_type": "execute_result"
    }
   ],
   "source": [
    "var4 = 1.\n",
    "type(var4)"
   ]
  },
  {
   "cell_type": "code",
   "execution_count": 19,
   "id": "70cf34d5-704b-4aef-a829-dca463010251",
   "metadata": {
    "tags": []
   },
   "outputs": [
    {
     "data": {
      "text/plain": [
       "5.0"
      ]
     },
     "execution_count": 19,
     "metadata": {},
     "output_type": "execute_result"
    }
   ],
   "source": [
    "#Q3\n",
    "#/ maens Division in python for example\n",
    "15/3"
   ]
  },
  {
   "cell_type": "code",
   "execution_count": 20,
   "id": "4fdb4212-13ca-43a0-9272-1c3747c34b68",
   "metadata": {},
   "outputs": [
    {
     "data": {
      "text/plain": [
       "1"
      ]
     },
     "execution_count": 20,
     "metadata": {},
     "output_type": "execute_result"
    }
   ],
   "source": [
    "# % means modulus in python for example\n",
    "5%2"
   ]
  },
  {
   "cell_type": "code",
   "execution_count": 21,
   "id": "8db7a24e-1d32-459f-87e3-1992eab24379",
   "metadata": {},
   "outputs": [
    {
     "data": {
      "text/plain": [
       "5"
      ]
     },
     "execution_count": 21,
     "metadata": {},
     "output_type": "execute_result"
    }
   ],
   "source": [
    "# // means Floor division in pyhton for example\n",
    "10//2"
   ]
  },
  {
   "cell_type": "code",
   "execution_count": null,
   "id": "d05f32f8-9af9-4426-b67c-ccef6b5db06b",
   "metadata": {},
   "outputs": [],
   "source": [
    "# ** means exponential in pyton for example\n",
    "64**4"
   ]
  },
  {
   "cell_type": "code",
   "execution_count": null,
   "id": "ab2316db-125b-47c4-929b-e28b4b7f5506",
   "metadata": {},
   "outputs": [],
   "source": [
    "#Q4 \n",
    "a=[1,2,3,'ujwal',34+5j,35.85,'rishav',20,50,100]\n",
    "for i in a:\n",
    "    print(type(i))"
   ]
  },
  {
   "cell_type": "code",
   "execution_count": null,
   "id": "c7a1dd72-6527-43b4-9dd1-5f3205392664",
   "metadata": {},
   "outputs": [],
   "source": [
    "#Q6"
   ]
  },
  {
   "cell_type": "code",
   "execution_count": null,
   "id": "687acce3-b32f-4d12-ad91-277b208517c7",
   "metadata": {},
   "outputs": [],
   "source": [
    "for i range(1,26):\n",
    "    if i%3==0:\n",
    "        print(i)\n",
    "        \n",
    "#Here is the code for Q6 but unfortunately it is not running so if i restart kernel i lost the data in assignment 1 data."
   ]
  },
  {
   "cell_type": "code",
   "execution_count": null,
   "id": "841bab45-81ab-4f90-9d19-f0838da7a710",
   "metadata": {},
   "outputs": [],
   "source": [
    "#Q7\n",
    "#Mutable means we can change or Immutable mean cannot change \n",
    "#let see an example\n",
    "\n",
    "l = [1,2,3,'ujwal']\n",
    "l[4]=3\n",
    "\n",
    "# here we can change so we can say list are mutable\n",
    "s='rishav','ankur','archit'\n",
    "s[1]='d'\n",
    "\n",
    "#here string are immutable we cannot change it \n",
    "\n",
    "Mutable and Immuatable are "
   ]
  },
  {
   "cell_type": "code",
   "execution_count": null,
   "id": "1e26256d-3c83-431d-874d-79d8a3f85842",
   "metadata": {},
   "outputs": [],
   "source": []
  }
 ],
 "metadata": {
  "kernelspec": {
   "display_name": "Python 3 (ipykernel)",
   "language": "python",
   "name": "python3"
  },
  "language_info": {
   "codemirror_mode": {
    "name": "ipython",
    "version": 3
   },
   "file_extension": ".py",
   "mimetype": "text/x-python",
   "name": "python",
   "nbconvert_exporter": "python",
   "pygments_lexer": "ipython3",
   "version": "3.10.8"
  }
 },
 "nbformat": 4,
 "nbformat_minor": 5
}
